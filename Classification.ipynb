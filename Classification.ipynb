{
 "cells": [
  {
   "cell_type": "code",
   "execution_count": 56,
   "metadata": {},
   "outputs": [],
   "source": [
    "import numpy as np\n",
    "import pandas as pd\n",
    "import matplotlib.pyplot as plt\n",
    "import seaborn as sns\n",
    "from datetime import  date\n",
    "from sklearn import preprocessing\n",
    "from sklearn.model_selection import train_test_split\n",
    "from sklearn.ensemble import RandomForestClassifier\n",
    "from sklearn.svm import SVC\n",
    "from sklearn.metrics import accuracy_score\n",
    "from sklearn.neighbors import KNeighborsClassifier\n",
    "from sklearn.metrics import f1_score as score\n",
    "from sklearn.ensemble import ExtraTreesClassifier"
   ]
  },
  {
   "cell_type": "code",
   "execution_count": 85,
   "metadata": {},
   "outputs": [],
   "source": [
    "df = pd.read_csv('US_Accidents_Dec19_IL-final.csv')"
   ]
  },
  {
   "cell_type": "code",
   "execution_count": 86,
   "metadata": {},
   "outputs": [
    {
     "data": {
      "text/html": [
       "<div>\n",
       "<style scoped>\n",
       "    .dataframe tbody tr th:only-of-type {\n",
       "        vertical-align: middle;\n",
       "    }\n",
       "\n",
       "    .dataframe tbody tr th {\n",
       "        vertical-align: top;\n",
       "    }\n",
       "\n",
       "    .dataframe thead th {\n",
       "        text-align: right;\n",
       "    }\n",
       "</style>\n",
       "<table border=\"1\" class=\"dataframe\">\n",
       "  <thead>\n",
       "    <tr style=\"text-align: right;\">\n",
       "      <th></th>\n",
       "      <th>Severity</th>\n",
       "      <th>Start_Lat</th>\n",
       "      <th>Start_Lng</th>\n",
       "      <th>Distance(mi)</th>\n",
       "      <th>Temperature(F)</th>\n",
       "      <th>Humidity(%)</th>\n",
       "      <th>Pressure(in)</th>\n",
       "      <th>Visibility(mi)</th>\n",
       "      <th>Wind_Speed(mph)</th>\n",
       "      <th>Precipitation(in)</th>\n",
       "      <th>...</th>\n",
       "      <th>Weather_Condition_Wintry Mix / Windy</th>\n",
       "      <th>Sunrise_Sunset_Day</th>\n",
       "      <th>Sunrise_Sunset_Night</th>\n",
       "      <th>Weekday_Fri</th>\n",
       "      <th>Weekday_Mon</th>\n",
       "      <th>Weekday_Sat</th>\n",
       "      <th>Weekday_Sun</th>\n",
       "      <th>Weekday_Thu</th>\n",
       "      <th>Weekday_Tue</th>\n",
       "      <th>Weekday_Wed</th>\n",
       "    </tr>\n",
       "  </thead>\n",
       "  <tbody>\n",
       "    <tr>\n",
       "      <td>count</td>\n",
       "      <td>20798.000000</td>\n",
       "      <td>20798.000000</td>\n",
       "      <td>20798.000000</td>\n",
       "      <td>20798.000000</td>\n",
       "      <td>20798.000000</td>\n",
       "      <td>20798.000000</td>\n",
       "      <td>20798.000000</td>\n",
       "      <td>20798.000000</td>\n",
       "      <td>20798.000000</td>\n",
       "      <td>20798.000000</td>\n",
       "      <td>...</td>\n",
       "      <td>20798.000000</td>\n",
       "      <td>20798.000000</td>\n",
       "      <td>20798.000000</td>\n",
       "      <td>20798.000000</td>\n",
       "      <td>20798.000000</td>\n",
       "      <td>20798.000000</td>\n",
       "      <td>20798.000000</td>\n",
       "      <td>20798.000000</td>\n",
       "      <td>20798.000000</td>\n",
       "      <td>20798.000000</td>\n",
       "    </tr>\n",
       "    <tr>\n",
       "      <td>mean</td>\n",
       "      <td>2.405472</td>\n",
       "      <td>41.857720</td>\n",
       "      <td>-88.037689</td>\n",
       "      <td>0.267641</td>\n",
       "      <td>47.420728</td>\n",
       "      <td>74.638667</td>\n",
       "      <td>29.492704</td>\n",
       "      <td>7.724288</td>\n",
       "      <td>9.839095</td>\n",
       "      <td>0.007746</td>\n",
       "      <td>...</td>\n",
       "      <td>0.000048</td>\n",
       "      <td>0.698673</td>\n",
       "      <td>0.301327</td>\n",
       "      <td>0.173334</td>\n",
       "      <td>0.195980</td>\n",
       "      <td>0.046110</td>\n",
       "      <td>0.035917</td>\n",
       "      <td>0.167853</td>\n",
       "      <td>0.190980</td>\n",
       "      <td>0.189826</td>\n",
       "    </tr>\n",
       "    <tr>\n",
       "      <td>std</td>\n",
       "      <td>0.563924</td>\n",
       "      <td>0.572189</td>\n",
       "      <td>0.463288</td>\n",
       "      <td>1.234290</td>\n",
       "      <td>20.570417</td>\n",
       "      <td>16.493200</td>\n",
       "      <td>0.401683</td>\n",
       "      <td>3.333467</td>\n",
       "      <td>5.337166</td>\n",
       "      <td>0.036446</td>\n",
       "      <td>...</td>\n",
       "      <td>0.006934</td>\n",
       "      <td>0.458845</td>\n",
       "      <td>0.458845</td>\n",
       "      <td>0.378545</td>\n",
       "      <td>0.396963</td>\n",
       "      <td>0.209729</td>\n",
       "      <td>0.186087</td>\n",
       "      <td>0.373744</td>\n",
       "      <td>0.393083</td>\n",
       "      <td>0.392173</td>\n",
       "    </tr>\n",
       "    <tr>\n",
       "      <td>min</td>\n",
       "      <td>1.000000</td>\n",
       "      <td>37.035700</td>\n",
       "      <td>-91.039238</td>\n",
       "      <td>0.000000</td>\n",
       "      <td>-20.900000</td>\n",
       "      <td>11.000000</td>\n",
       "      <td>28.500000</td>\n",
       "      <td>0.000000</td>\n",
       "      <td>0.000000</td>\n",
       "      <td>0.000000</td>\n",
       "      <td>...</td>\n",
       "      <td>0.000000</td>\n",
       "      <td>0.000000</td>\n",
       "      <td>0.000000</td>\n",
       "      <td>0.000000</td>\n",
       "      <td>0.000000</td>\n",
       "      <td>0.000000</td>\n",
       "      <td>0.000000</td>\n",
       "      <td>0.000000</td>\n",
       "      <td>0.000000</td>\n",
       "      <td>0.000000</td>\n",
       "    </tr>\n",
       "    <tr>\n",
       "      <td>25%</td>\n",
       "      <td>2.000000</td>\n",
       "      <td>41.809270</td>\n",
       "      <td>-88.111547</td>\n",
       "      <td>0.000000</td>\n",
       "      <td>31.000000</td>\n",
       "      <td>64.000000</td>\n",
       "      <td>29.210000</td>\n",
       "      <td>5.000000</td>\n",
       "      <td>6.000000</td>\n",
       "      <td>0.000000</td>\n",
       "      <td>...</td>\n",
       "      <td>0.000000</td>\n",
       "      <td>0.000000</td>\n",
       "      <td>0.000000</td>\n",
       "      <td>0.000000</td>\n",
       "      <td>0.000000</td>\n",
       "      <td>0.000000</td>\n",
       "      <td>0.000000</td>\n",
       "      <td>0.000000</td>\n",
       "      <td>0.000000</td>\n",
       "      <td>0.000000</td>\n",
       "    </tr>\n",
       "    <tr>\n",
       "      <td>50%</td>\n",
       "      <td>2.000000</td>\n",
       "      <td>41.907555</td>\n",
       "      <td>-87.946533</td>\n",
       "      <td>0.000000</td>\n",
       "      <td>44.100000</td>\n",
       "      <td>78.000000</td>\n",
       "      <td>29.390000</td>\n",
       "      <td>10.000000</td>\n",
       "      <td>9.000000</td>\n",
       "      <td>0.000000</td>\n",
       "      <td>...</td>\n",
       "      <td>0.000000</td>\n",
       "      <td>1.000000</td>\n",
       "      <td>0.000000</td>\n",
       "      <td>0.000000</td>\n",
       "      <td>0.000000</td>\n",
       "      <td>0.000000</td>\n",
       "      <td>0.000000</td>\n",
       "      <td>0.000000</td>\n",
       "      <td>0.000000</td>\n",
       "      <td>0.000000</td>\n",
       "    </tr>\n",
       "    <tr>\n",
       "      <td>75%</td>\n",
       "      <td>3.000000</td>\n",
       "      <td>42.071868</td>\n",
       "      <td>-87.771451</td>\n",
       "      <td>0.084000</td>\n",
       "      <td>66.000000</td>\n",
       "      <td>88.000000</td>\n",
       "      <td>29.740000</td>\n",
       "      <td>10.000000</td>\n",
       "      <td>13.000000</td>\n",
       "      <td>0.000000</td>\n",
       "      <td>...</td>\n",
       "      <td>0.000000</td>\n",
       "      <td>1.000000</td>\n",
       "      <td>1.000000</td>\n",
       "      <td>0.000000</td>\n",
       "      <td>0.000000</td>\n",
       "      <td>0.000000</td>\n",
       "      <td>0.000000</td>\n",
       "      <td>0.000000</td>\n",
       "      <td>0.000000</td>\n",
       "      <td>0.000000</td>\n",
       "    </tr>\n",
       "    <tr>\n",
       "      <td>max</td>\n",
       "      <td>4.000000</td>\n",
       "      <td>42.494910</td>\n",
       "      <td>-87.526572</td>\n",
       "      <td>35.160000</td>\n",
       "      <td>95.000000</td>\n",
       "      <td>100.000000</td>\n",
       "      <td>30.650000</td>\n",
       "      <td>25.000000</td>\n",
       "      <td>39.100000</td>\n",
       "      <td>1.760000</td>\n",
       "      <td>...</td>\n",
       "      <td>1.000000</td>\n",
       "      <td>1.000000</td>\n",
       "      <td>1.000000</td>\n",
       "      <td>1.000000</td>\n",
       "      <td>1.000000</td>\n",
       "      <td>1.000000</td>\n",
       "      <td>1.000000</td>\n",
       "      <td>1.000000</td>\n",
       "      <td>1.000000</td>\n",
       "      <td>1.000000</td>\n",
       "    </tr>\n",
       "  </tbody>\n",
       "</table>\n",
       "<p>8 rows × 175 columns</p>\n",
       "</div>"
      ],
      "text/plain": [
       "           Severity     Start_Lat     Start_Lng  Distance(mi)  Temperature(F)  \\\n",
       "count  20798.000000  20798.000000  20798.000000  20798.000000    20798.000000   \n",
       "mean       2.405472     41.857720    -88.037689      0.267641       47.420728   \n",
       "std        0.563924      0.572189      0.463288      1.234290       20.570417   \n",
       "min        1.000000     37.035700    -91.039238      0.000000      -20.900000   \n",
       "25%        2.000000     41.809270    -88.111547      0.000000       31.000000   \n",
       "50%        2.000000     41.907555    -87.946533      0.000000       44.100000   \n",
       "75%        3.000000     42.071868    -87.771451      0.084000       66.000000   \n",
       "max        4.000000     42.494910    -87.526572     35.160000       95.000000   \n",
       "\n",
       "        Humidity(%)  Pressure(in)  Visibility(mi)  Wind_Speed(mph)  \\\n",
       "count  20798.000000  20798.000000    20798.000000     20798.000000   \n",
       "mean      74.638667     29.492704        7.724288         9.839095   \n",
       "std       16.493200      0.401683        3.333467         5.337166   \n",
       "min       11.000000     28.500000        0.000000         0.000000   \n",
       "25%       64.000000     29.210000        5.000000         6.000000   \n",
       "50%       78.000000     29.390000       10.000000         9.000000   \n",
       "75%       88.000000     29.740000       10.000000        13.000000   \n",
       "max      100.000000     30.650000       25.000000        39.100000   \n",
       "\n",
       "       Precipitation(in)  ...  Weather_Condition_Wintry Mix / Windy  \\\n",
       "count       20798.000000  ...                          20798.000000   \n",
       "mean            0.007746  ...                              0.000048   \n",
       "std             0.036446  ...                              0.006934   \n",
       "min             0.000000  ...                              0.000000   \n",
       "25%             0.000000  ...                              0.000000   \n",
       "50%             0.000000  ...                              0.000000   \n",
       "75%             0.000000  ...                              0.000000   \n",
       "max             1.760000  ...                              1.000000   \n",
       "\n",
       "       Sunrise_Sunset_Day  Sunrise_Sunset_Night   Weekday_Fri   Weekday_Mon  \\\n",
       "count        20798.000000          20798.000000  20798.000000  20798.000000   \n",
       "mean             0.698673              0.301327      0.173334      0.195980   \n",
       "std              0.458845              0.458845      0.378545      0.396963   \n",
       "min              0.000000              0.000000      0.000000      0.000000   \n",
       "25%              0.000000              0.000000      0.000000      0.000000   \n",
       "50%              1.000000              0.000000      0.000000      0.000000   \n",
       "75%              1.000000              1.000000      0.000000      0.000000   \n",
       "max              1.000000              1.000000      1.000000      1.000000   \n",
       "\n",
       "        Weekday_Sat   Weekday_Sun   Weekday_Thu   Weekday_Tue   Weekday_Wed  \n",
       "count  20798.000000  20798.000000  20798.000000  20798.000000  20798.000000  \n",
       "mean       0.046110      0.035917      0.167853      0.190980      0.189826  \n",
       "std        0.209729      0.186087      0.373744      0.393083      0.392173  \n",
       "min        0.000000      0.000000      0.000000      0.000000      0.000000  \n",
       "25%        0.000000      0.000000      0.000000      0.000000      0.000000  \n",
       "50%        0.000000      0.000000      0.000000      0.000000      0.000000  \n",
       "75%        0.000000      0.000000      0.000000      0.000000      0.000000  \n",
       "max        1.000000      1.000000      1.000000      1.000000      1.000000  \n",
       "\n",
       "[8 rows x 175 columns]"
      ]
     },
     "execution_count": 86,
     "metadata": {},
     "output_type": "execute_result"
    }
   ],
   "source": [
    "df.describe()"
   ]
  },
  {
   "cell_type": "code",
   "execution_count": 87,
   "metadata": {},
   "outputs": [
    {
     "data": {
      "text/plain": [
       "pandas.core.frame.DataFrame"
      ]
     },
     "execution_count": 87,
     "metadata": {},
     "output_type": "execute_result"
    }
   ],
   "source": [
    "type(df)\n",
    "\n",
    "\n",
    "#df.info()"
   ]
  },
  {
   "cell_type": "code",
   "execution_count": 88,
   "metadata": {},
   "outputs": [
    {
     "name": "stdout",
     "output_type": "stream",
     "text": [
      "<class 'pandas.core.frame.DataFrame'>\n",
      "RangeIndex: 20798 entries, 0 to 20797\n",
      "Columns: 187 entries, Severity to Weekday_Wed\n",
      "dtypes: bool(12), float64(8), int64(167)\n",
      "memory usage: 28.0 MB\n"
     ]
    }
   ],
   "source": [
    "df.info()"
   ]
  },
  {
   "cell_type": "code",
   "execution_count": 89,
   "metadata": {},
   "outputs": [
    {
     "data": {
      "text/plain": [
       "pandas.core.series.Series"
      ]
     },
     "execution_count": 89,
     "metadata": {},
     "output_type": "execute_result"
    }
   ],
   "source": [
    "##normalizing colms\n",
    "type(df['Start_Lat'])"
   ]
  },
  {
   "cell_type": "code",
   "execution_count": 90,
   "metadata": {},
   "outputs": [],
   "source": [
    "def minmaxNormalize(data):\n",
    "    \n",
    "    min_max_scaler = preprocessing.MinMaxScaler()\n",
    "    data = min_max_scaler.fit_transform(data)\n",
    "    \n",
    "    return  pd.DataFrame(data)\n",
    "    \n",
    "\n",
    "#df['Start_Lat'] = minmaxNormalize(df[['Start_Lat']].values.astype(float))"
   ]
  },
  {
   "cell_type": "code",
   "execution_count": 91,
   "metadata": {},
   "outputs": [
    {
     "data": {
      "text/plain": [
       "count    20798.000000\n",
       "mean         0.267641\n",
       "std          1.234290\n",
       "min          0.000000\n",
       "25%          0.000000\n",
       "50%          0.000000\n",
       "75%          0.084000\n",
       "max         35.160000\n",
       "Name: Distance(mi), dtype: float64"
      ]
     },
     "execution_count": 91,
     "metadata": {},
     "output_type": "execute_result"
    }
   ],
   "source": [
    "df['Distance(mi)'].describe()"
   ]
  },
  {
   "cell_type": "code",
   "execution_count": 92,
   "metadata": {},
   "outputs": [],
   "source": [
    "#df['Start_Lng'] = pd.qcut(df['Start_Lng'], q=100)\n",
    "#df['Start_Lat'] = pd.qcut(df['Start_Lat'], q=50)\n",
    "#df['Distance(mi)'] = pd.qcut(df['Distance(mi)'], q=50)\n"
   ]
  },
  {
   "cell_type": "code",
   "execution_count": 93,
   "metadata": {},
   "outputs": [],
   "source": [
    "#df['Start_Lng'] = minmaxNormalize(df[['Start_Lng']].values.astype(float))\n",
    "df['Distance(mi)'] = minmaxNormalize(df[['Distance(mi)']].values.astype(float))\n",
    "df['Temperature(F)'] = minmaxNormalize(df[['Temperature(F)']].values.astype(float))\n",
    "df['Humidity(%)'] = minmaxNormalize(df[['Humidity(%)']].values.astype(float))\n",
    "df['Pressure(in)'] = minmaxNormalize(df[['Pressure(in)']].values.astype(float))\n",
    "df['Visibility(mi)'] = minmaxNormalize(df[['Visibility(mi)']].values.astype(float))\n",
    "df['Wind_Speed(mph)'] = minmaxNormalize(df[['Wind_Speed(mph)']].values.astype(float))\n",
    "df['Precipitation(in)'] = minmaxNormalize(df[['Precipitation(in)']].values.astype(float))\n",
    "df['Hour'] = minmaxNormalize(df[['Hour']].values.astype(float))\n",
    "df['Time_Taken'] = minmaxNormalize(df[['Time_Taken']].values.astype(float))\n",
    "#df['Start_Lat'] = minmaxNormalize(df[['Start_Lat']].values.astype(float))\n",
    "\n",
    "\n",
    "\n"
   ]
  },
  {
   "cell_type": "code",
   "execution_count": 94,
   "metadata": {},
   "outputs": [
    {
     "data": {
      "text/plain": [
       "count    20798.000000\n",
       "mean       -88.037689\n",
       "std          0.463288\n",
       "min        -91.039238\n",
       "25%        -88.111547\n",
       "50%        -87.946533\n",
       "75%        -87.771451\n",
       "max        -87.526572\n",
       "Name: Start_Lng, dtype: float64"
      ]
     },
     "execution_count": 94,
     "metadata": {},
     "output_type": "execute_result"
    }
   ],
   "source": [
    "df['Start_Lng'].describe()"
   ]
  },
  {
   "cell_type": "code",
   "execution_count": 95,
   "metadata": {},
   "outputs": [
    {
     "data": {
      "text/plain": [
       "count    20798.000000\n",
       "mean        41.857720\n",
       "std          0.572189\n",
       "min         37.035700\n",
       "25%         41.809270\n",
       "50%         41.907555\n",
       "75%         42.071868\n",
       "max         42.494910\n",
       "Name: Start_Lat, dtype: float64"
      ]
     },
     "execution_count": 95,
     "metadata": {},
     "output_type": "execute_result"
    }
   ],
   "source": [
    "df['Start_Lat'].describe()"
   ]
  },
  {
   "cell_type": "code",
   "execution_count": 96,
   "metadata": {},
   "outputs": [
    {
     "name": "stdout",
     "output_type": "stream",
     "text": [
      "0        0\n",
      "1        0\n",
      "2        0\n",
      "3        0\n",
      "4        1\n",
      "        ..\n",
      "20793    0\n",
      "20794    0\n",
      "20795    0\n",
      "20796    0\n",
      "20797    0\n",
      "Name: Weekday_Thu, Length: 20798, dtype: int64\n"
     ]
    }
   ],
   "source": [
    "print(df['Weekday_Thu'])"
   ]
  },
  {
   "cell_type": "code",
   "execution_count": 97,
   "metadata": {},
   "outputs": [],
   "source": [
    "df_final = pd.get_dummies(df)\n"
   ]
  },
  {
   "cell_type": "code",
   "execution_count": 98,
   "metadata": {},
   "outputs": [],
   "source": [
    "df_final.describe()\n",
    "df_final = pd.DataFrame(df_final).fillna(0)"
   ]
  },
  {
   "cell_type": "code",
   "execution_count": 99,
   "metadata": {},
   "outputs": [],
   "source": [
    "df_y = df_final['Severity']\n",
    "df_x = df_final.drop(df[['Severity']], axis=1)"
   ]
  },
  {
   "cell_type": "code",
   "execution_count": 100,
   "metadata": {},
   "outputs": [],
   "source": [
    "X_train, X_valid, y_train, y_valid = train_test_split(df_x,df_y, test_size = 0.15, random_state = 63)"
   ]
  },
  {
   "cell_type": "code",
   "execution_count": 101,
   "metadata": {},
   "outputs": [
    {
     "name": "stdout",
     "output_type": "stream",
     "text": [
      "F1 Score : 0.8490384615384614\n",
      "acc 0.8490384615384615\n",
      "[Random forest algorithm] accuracy_score: 0.849.\n"
     ]
    }
   ],
   "source": [
    "\n",
    "model=RandomForestClassifier(n_estimators=120)\n",
    "#model=SVC()\n",
    "model.fit(X_train,y_train)\n",
    "\n",
    "y_pred=model.predict(X_valid)\n",
    "acc=accuracy_score(y_valid, y_pred)\n",
    "print('F1 Score : ' + str(score(y_valid,y_pred,average='micro')))\n",
    "print(\"acc\",acc)\n",
    "\n",
    "\n",
    "\n",
    "# Model Accuracy, how often is the classifier correct?\n",
    "print(\"[Random forest algorithm] accuracy_score: {:.3f}.\".format(acc))"
   ]
  },
  {
   "cell_type": "code",
   "execution_count": 102,
   "metadata": {},
   "outputs": [
    {
     "name": "stderr",
     "output_type": "stream",
     "text": [
      "No handles with labels found to put in legend.\n"
     ]
    },
    {
     "data": {
      "image/png": "[encoded data removed]",
      "text/plain": [
       "<Figure size 432x288 with 1 Axes>"
      ]
     },
     "metadata": {
      "needs_background": "light"
     },
     "output_type": "display_data"
    }
   ],
   "source": [
    "feature_imp = pd.Series(model.feature_importances_,index=df_x.columns).sort_values(ascending=False)\n",
    "\n",
    "# Creating a bar plot, displaying only the top k features\n",
    "k=10\n",
    "sns.barplot(x=feature_imp[:10], y=feature_imp.index[:k])\n",
    "# Add labels to your graph\n",
    "plt.xlabel('Feature Importance Score')\n",
    "plt.ylabel('Features')\n",
    "plt.title(\"Visualizing Important Features\")\n",
    "plt.legend()\n",
    "plt.show()"
   ]
  },
  {
   "cell_type": "code",
   "execution_count": 103,
   "metadata": {},
   "outputs": [
    {
     "data": {
      "text/plain": [
       "Hour                               0.104434\n",
       "Distance(mi)                       0.083509\n",
       "Time_Taken                         0.083463\n",
       "Start_Lng                          0.082740\n",
       "Start_Lat                          0.077299\n",
       "Temperature(F)                     0.051974\n",
       "Pressure(in)                       0.048269\n",
       "Humidity(%)                        0.046209\n",
       "Traffic_Signal                     0.041128\n",
       "Wind_Speed(mph)                    0.038210\n",
       "Visibility(mi)                     0.020117\n",
       "County_Cook                        0.018551\n",
       "Weekday_Sun                        0.015096\n",
       "Sunrise_Sunset_Day                 0.014541\n",
       "Weekday_Sat                        0.014504\n",
       "Sunrise_Sunset_Night               0.013892\n",
       "Precipitation(in)                  0.011069\n",
       "Junction                           0.009414\n",
       "County_DuPage                      0.007676\n",
       "Weekday_Mon                        0.007499\n",
       "Weekday_Wed                        0.007488\n",
       "Weather_Condition_Fair             0.007384\n",
       "Weekday_Fri                        0.007263\n",
       "Weekday_Thu                        0.007115\n",
       "Weekday_Tue                        0.007094\n",
       "County_Lake                        0.007057\n",
       "County_Kane                        0.006434\n",
       "Weather_Condition_Cloudy           0.006366\n",
       "County_Tazewell                    0.005870\n",
       "Weather_Condition_Mostly Cloudy    0.005801\n",
       "Station                            0.005795\n",
       "Wind_Direction_WSW                 0.005031\n",
       "Wind_Direction_W                   0.004853\n",
       "Crossing                           0.004540\n",
       "Weather_Condition_Light Snow       0.004470\n",
       "Wind_Direction_WNW                 0.004369\n",
       "Wind_Direction_SSW                 0.004305\n",
       "Wind_Direction_SW                  0.004189\n",
       "Weather_Condition_Light Rain       0.004093\n",
       "Wind_Direction_S                   0.004084\n",
       "Wind_Direction_ENE                 0.004016\n",
       "Wind_Direction_NE                  0.003985\n",
       "Wind_Direction_NNW                 0.003953\n",
       "Wind_Direction_NNE                 0.003939\n",
       "Wind_Direction_NW                  0.003937\n",
       "Weather_Condition_Partly Cloudy    0.003790\n",
       "Wind_Direction_CALM                0.003640\n",
       "County_Will                        0.003583\n",
       "Weather_Condition_Overcast         0.003439\n",
       "Wind_Direction_SSE                 0.003392\n",
       "dtype: float64"
      ]
     },
     "execution_count": 103,
     "metadata": {},
     "output_type": "execute_result"
    }
   ],
   "source": [
    "k=50\n",
    "feature_imp.sort_values(ascending=False)[:k]"
   ]
  },
  {
   "cell_type": "code",
   "execution_count": 104,
   "metadata": {},
   "outputs": [
    {
     "name": "stdout",
     "output_type": "stream",
     "text": [
      "acc 0.7564102564102564\n"
     ]
    }
   ],
   "source": [
    "#knn\n",
    "model =  KNeighborsClassifier(n_neighbors=30)\n",
    "model.fit(X_train,y_train)\n",
    "y_pred=model.predict(X_valid)\n",
    "acc=accuracy_score(y_valid, y_pred)\n",
    "#f1_score = f1_score(y_valid,y_pred,average='micro')\n",
    "print(\"acc\",acc)\n"
   ]
  },
  {
   "cell_type": "code",
   "execution_count": 81,
   "metadata": {},
   "outputs": [
    {
     "name": "stdout",
     "output_type": "stream",
     "text": [
      "F1 Score : 0.7724358974358975\n"
     ]
    }
   ],
   "source": [
    "print('F1 Score : ' + str(score(y_valid,y_pred,average='micro')))"
   ]
  },
  {
   "cell_type": "code",
   "execution_count": 105,
   "metadata": {},
   "outputs": [
    {
     "name": "stdout",
     "output_type": "stream",
     "text": [
      "acc 0.7926282051282051\n"
     ]
    }
   ],
   "source": [
    "##decison Tree\n",
    "from sklearn import tree\n",
    "model = tree.DecisionTreeClassifier()\n",
    "model.fit(X_train,y_train)\n",
    "y_pred=model.predict(X_valid)\n",
    "acc=accuracy_score(y_valid, y_pred)\n",
    "\n",
    "print(\"acc\",acc)\n",
    "#print(\"f1_score\",f1_score)"
   ]
  },
  {
   "cell_type": "code",
   "execution_count": 106,
   "metadata": {},
   "outputs": [
    {
     "name": "stdout",
     "output_type": "stream",
     "text": [
      "F1 Score : 0.7926282051282051\n"
     ]
    }
   ],
   "source": [
    "print('F1 Score : ' + str(score(y_valid,y_pred,average='micro')))"
   ]
  },
  {
   "cell_type": "code",
   "execution_count": 107,
   "metadata": {},
   "outputs": [
    {
     "name": "stdout",
     "output_type": "stream",
     "text": [
      "acc 0.8211538461538461\n",
      "F1 Score : 0.8211538461538461\n"
     ]
    }
   ],
   "source": [
    "##\n",
    "model = ExtraTreesClassifier(n_estimators=1000, random_state=0,class_weight='balanced')\n",
    "model.fit(X_train,y_train)\n",
    "y_pred=model.predict(X_valid)\n",
    "acc=accuracy_score(y_valid, y_pred)\n",
    "\n",
    "print(\"acc\",acc)\n",
    "print('F1 Score : ' + str(score(y_valid,y_pred,average='micro')))\n"
   ]
  },
  {
   "cell_type": "code",
   "execution_count": null,
   "metadata": {},
   "outputs": [],
   "source": []
  },
  {
   "cell_type": "code",
   "execution_count": null,
   "metadata": {},
   "outputs": [],
   "source": []
  }
 ],
 "metadata": {
  "kernelspec": {
   "display_name": "Python 3",
   "language": "python",
   "name": "python3"
  },
  "language_info": {
   "codemirror_mode": {
    "name": "ipython",
    "version": 3
   },
   "file_extension": ".py",
   "mimetype": "text/x-python",
   "name": "python",
   "nbconvert_exporter": "python",
   "pygments_lexer": "ipython3",
   "version": "3.7.4"
  }
 },
 "nbformat": 4,
 "nbformat_minor": 2
}
